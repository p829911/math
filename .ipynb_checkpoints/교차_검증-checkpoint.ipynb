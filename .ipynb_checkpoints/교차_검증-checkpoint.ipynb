{
 "cells": [
  {
   "cell_type": "code",
   "execution_count": 3,
   "metadata": {},
   "outputs": [],
   "source": [
    "from sklearn.datasets import load_boston\n",
    "\n",
    "boston = load_boston()\n",
    "dfx = pd.DataFrame(boston.data, columns=boston.feature_names)\n",
    "dfy = pd.DataFrame(boston.target, columns=[\"MEDV\"])\n",
    "df = pd.concat([dfx, dfy], axis=1)"
   ]
  },
  {
   "cell_type": "code",
   "execution_count": 4,
   "metadata": {},
   "outputs": [],
   "source": [
    "N = len(df)\n",
    "ratio = 0.7\n",
    "np.random.seed(0)\n",
    "idx_train = np.random.choice(np.arange(N), np.int(ratio * N))\n",
    "idx_test = list(set(np.arange(N)).difference(idx_train))\n",
    "\n",
    "df_train = df.iloc[idx_train]\n",
    "df_test = df.iloc[idx_test]"
   ]
  },
  {
   "cell_type": "code",
   "execution_count": 5,
   "metadata": {},
   "outputs": [
    {
     "name": "stdout",
     "output_type": "stream",
     "text": [
      "                            OLS Regression Results                            \n",
      "==============================================================================\n",
      "Dep. Variable:                   MEDV   R-squared:                       0.757\n",
      "Model:                            OLS   Adj. R-squared:                  0.747\n",
      "Method:                 Least Squares   F-statistic:                     81.31\n",
      "Date:                Tue, 27 Nov 2018   Prob (F-statistic):           7.22e-96\n",
      "Time:                        16:41:39   Log-Likelihood:                -1057.6\n",
      "No. Observations:                 354   AIC:                             2143.\n",
      "Df Residuals:                     340   BIC:                             2197.\n",
      "Df Model:                          13                                         \n",
      "Covariance Type:            nonrobust                                         \n",
      "==============================================================================\n",
      "                 coef    std err          t      P>|t|      [0.025      0.975]\n",
      "------------------------------------------------------------------------------\n",
      "Intercept     40.6105      6.807      5.966      0.000      27.222      53.999\n",
      "CRIM          -0.0801      0.040     -2.012      0.045      -0.158      -0.002\n",
      "ZN             0.0438      0.016      2.777      0.006       0.013       0.075\n",
      "INDUS          0.0978      0.076      1.287      0.199      -0.052       0.247\n",
      "CHAS           2.7905      1.120      2.491      0.013       0.587       4.994\n",
      "NOX          -21.4614      4.919     -4.363      0.000     -31.136     -11.787\n",
      "RM             3.7948      0.532      7.128      0.000       2.748       4.842\n",
      "AGE            0.0006      0.016      0.036      0.971      -0.030       0.031\n",
      "DIS           -1.6910      0.256     -6.605      0.000      -2.195      -1.187\n",
      "RAD            0.2730      0.079      3.447      0.001       0.117       0.429\n",
      "TAX           -0.0097      0.004     -2.215      0.027      -0.018      -0.001\n",
      "PTRATIO       -1.1651      0.167     -6.983      0.000      -1.493      -0.837\n",
      "B              0.0134      0.004      3.815      0.000       0.006       0.020\n",
      "LSTAT         -0.5490      0.062     -8.908      0.000      -0.670      -0.428\n",
      "==============================================================================\n",
      "Omnibus:                      129.426   Durbin-Watson:                   1.979\n",
      "Prob(Omnibus):                  0.000   Jarque-Bera (JB):              603.605\n",
      "Skew:                           1.498   Prob(JB):                    8.49e-132\n",
      "Kurtosis:                       8.652   Cond. No.                     1.64e+04\n",
      "==============================================================================\n",
      "\n",
      "Warnings:\n",
      "[1] Standard Errors assume that the covariance matrix of the errors is correctly specified.\n",
      "[2] The condition number is large, 1.64e+04. This might indicate that there are\n",
      "strong multicollinearity or other numerical problems.\n"
     ]
    }
   ],
   "source": [
    "model = sm.OLS.from_formula(\"MEDV ~ \" + \"+\".join(boston.feature_names), data=df_train)\n",
    "result = model.fit()\n",
    "print(result.summary())"
   ]
  },
  {
   "cell_type": "code",
   "execution_count": 6,
   "metadata": {},
   "outputs": [
    {
     "data": {
      "text/plain": [
       "0.6883734124987108"
      ]
     },
     "execution_count": 6,
     "metadata": {},
     "output_type": "execute_result"
    }
   ],
   "source": [
    "pred = result.predict(df_test)\n",
    "rss = ((df_test.MEDV - pred) ** 2).sum()\n",
    "tss = ((df_test.MEDV - df_test.MEDV.mean()) ** 2).sum()\n",
    "rsquared = 1 - rss / tss\n",
    "rsquared"
   ]
  },
  {
   "cell_type": "code",
   "execution_count": 12,
   "metadata": {},
   "outputs": [
    {
     "name": "stdout",
     "output_type": "stream",
     "text": [
      "train R2 = 0.77301356, test R2 = 0.58922238\n",
      "train R2 = 0.72917058, test R2 = 0.77799144\n",
      "train R2 = 0.74897081, test R2 = 0.66791979\n",
      "train R2 = 0.75658611, test R2 = 0.66801630\n",
      "train R2 = 0.70497483, test R2 = 0.83953317\n"
     ]
    }
   ],
   "source": [
    "from sklearn.model_selection import KFold\n",
    "\n",
    "scores = np.zeros(5)\n",
    "cv = KFold(5, shuffle=True, random_state=0)\n",
    "for i, (idx_train, idx_test) in enumerate(cv.split(df)):\n",
    "    df_train = df.iloc[idx_train]\n",
    "    df_test = df.iloc[idx_test]\n",
    "    \n",
    "    model = sm.OLS.from_formula(\"MEDV ~ \" + \"+\".join(boston.feature_names), data=df_train)\n",
    "    result = model.fit()\n",
    "    \n",
    "    pred = result.predict(df_test)\n",
    "    rss = ((df_test.MEDV - pred) ** 2).sum()\n",
    "    tss = ((df_test.MEDV - df_test.MEDV.mean()) ** 2).sum()\n",
    "    rsquared = 1 - rss/tss\n",
    "    \n",
    "    scores[i] = rsquared\n",
    "    print(\"train R2 = {:.8f}, test R2 = {:.8f}\".format(result.rsquared, rsquared))"
   ]
  },
  {
   "cell_type": "code",
   "execution_count": null,
   "metadata": {},
   "outputs": [],
   "source": []
  }
 ],
 "metadata": {
  "kernelspec": {
   "display_name": "Python 3",
   "language": "python",
   "name": "python3"
  },
  "language_info": {
   "codemirror_mode": {
    "name": "ipython",
    "version": 3
   },
   "file_extension": ".py",
   "mimetype": "text/x-python",
   "name": "python",
   "nbconvert_exporter": "python",
   "pygments_lexer": "ipython3",
   "version": "3.6.7"
  }
 },
 "nbformat": 4,
 "nbformat_minor": 2
}
